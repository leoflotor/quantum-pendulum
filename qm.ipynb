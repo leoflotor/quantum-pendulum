{
 "cells": [
  {
   "cell_type": "markdown",
   "metadata": {
    "tags": []
   },
   "source": [
    "# Quantum Pendulum"
   ]
  },
  {
   "cell_type": "markdown",
   "metadata": {},
   "source": [
    "Authors: Rodrigo Sanchez, Julio Natividad, Leonardo Flores\n",
    "\n",
    "TO DO\n",
    "\n",
    "* **CHANGE ORDER OF VARIABLES IN FUNCTIONS. TO BE THE SAME AS THE EXPECTED ENERGY FUNCTION.**\n",
    "* Graficar la solucion Phi(t), para diferentes valores de la energia. Phi(0) = 0."
   ]
  },
  {
   "cell_type": "code",
   "execution_count": 1,
   "metadata": {},
   "outputs": [],
   "source": [
    "import numpy as np\n",
    "import matplotlib.pyplot as plt\n",
    "import scipy.integrate as integrate\n",
    "from scipy.special import mathieu_a, mathieu_b, mathieu_cem, mathieu_sem\n",
    "# import seaborn as sns\n",
    "from ipywidgets import interactive\n",
    "\n",
    "# sns.set_style(\"darkgrid\")\n",
    "# sns.set_context(\"notebook\")\n",
    "\n",
    "%matplotlib inline"
   ]
  },
  {
   "cell_type": "code",
   "execution_count": 2,
   "metadata": {},
   "outputs": [],
   "source": [
    "M = 1.0\n",
    "g = 1.0\n",
    "l = 1.0\n",
    "U0 = M * g * l\n",
    "h = 0.06\n",
    "q = (4 * M * l**2 * U0) / h**2"
   ]
  },
  {
   "cell_type": "markdown",
   "metadata": {
    "tags": []
   },
   "source": [
    "## Functions"
   ]
  },
  {
   "cell_type": "markdown",
   "metadata": {},
   "source": [
    "Respective energy for its respective Mathieu characterictic value"
   ]
  },
  {
   "cell_type": "code",
   "execution_count": 3,
   "metadata": {},
   "outputs": [],
   "source": [
    "def energy(n, q):\n",
    "    if n % 2 == 0:\n",
    "        return (h**2 / (8 * M * l**2)) * mathieu_a(n, q) + U0\n",
    "    else:\n",
    "        return (h**2 / (8 * M * l**2)) * mathieu_b(n + 1, q) + U0"
   ]
  },
  {
   "cell_type": "code",
   "execution_count": 4,
   "metadata": {},
   "outputs": [],
   "source": [
    "# Both, the mathieu_cem and mathieu_sem unpack two values, the\n",
    "# result of their respective mathieu function and its derivative\n",
    "# with respect to x (in degrees).\n",
    "\n",
    "\n",
    "def ce(n, q, x):\n",
    "    val, _ = mathieu_cem(n, q, x) / np.sqrt(np.pi)\n",
    "\n",
    "    return val\n",
    "\n",
    "\n",
    "def se(n, q, x):\n",
    "    val, _ = mathieu_sem(n, q, x) / np.sqrt(np.pi)\n",
    "\n",
    "    return val\n",
    "\n",
    "# Keep an eye for larger values of n!\n",
    "\n",
    "\n",
    "def f(n, q, x):\n",
    "    if n % 2 == 0:\n",
    "        return ce(n, q, (x - 180) / 2)\n",
    "    else:\n",
    "        return se(n + 1, q, (x - 180) / 2)"
   ]
  },
  {
   "cell_type": "markdown",
   "metadata": {},
   "source": [
    "The parameter a is the height of the curve's peak, b is the position of the center of the peak and c (the standard deviation, sometimes called the Gaussian RMS width) controls the width of the \"bell\" - Wikipedia.\n",
    "\n",
    "Coefficients:\n",
    "$$\n",
    "C_{n} = \\exp\\left(-\\frac{(n - \\bar{n})^{2}}{2 \\sigma^2}\\right)\n",
    "$$\n",
    "\n",
    "Gauss function:\n",
    "$$\n",
    "\\Psi(\\phi; \\bar{n}) = \\frac{1}{\\sqrt{\\sum |C_{n}|^{2}}} \\sum_{n=0}^{\\infty} C_{n} \\psi_{n}(\\phi)\n",
    "$$"
   ]
  },
  {
   "cell_type": "code",
   "execution_count": 5,
   "metadata": {},
   "outputs": [],
   "source": [
    "def gauss_coeff(n, nbar, sigma):\n",
    "    return np.exp(- (n - nbar)**2 / (2 * sigma**2))"
   ]
  },
  {
   "cell_type": "code",
   "execution_count": 6,
   "metadata": {},
   "outputs": [],
   "source": [
    "def norm(n_max, nbar, sigma):\n",
    "    sum = 0\n",
    "\n",
    "    for i in range(n_max + 1):\n",
    "        sum += np.abs(gauss_coeff(i, nbar, sigma)**2)\n",
    "\n",
    "    return 1 / np.sqrt(sum)"
   ]
  },
  {
   "cell_type": "code",
   "execution_count": 7,
   "metadata": {},
   "outputs": [],
   "source": [
    "def f_gauss(n_max, q, x, nbar, sigma):\n",
    "    sum = 0\n",
    "\n",
    "    for i in range(n_max + 1):\n",
    "        sum += f(i, q, x) * gauss_coeff(i, nbar, sigma)\n",
    "\n",
    "    return norm(n_max, nbar, sigma) * sum"
   ]
  },
  {
   "cell_type": "markdown",
   "metadata": {},
   "source": [
    "$$\n",
    "\\langle E \\rangle_{\\Psi} = \\langle \\Psi| \\hat{H} |\\Psi \\rangle = \\frac{1}{\\sum |C_{n}|^{2}} \\sum_{n=0}^{\\infty}|C_{n}|^{2} E_{n}\n",
    "$$"
   ]
  },
  {
   "cell_type": "code",
   "execution_count": 8,
   "metadata": {},
   "outputs": [],
   "source": [
    "def expected_energy(nbar, n_max, sigma, q):\n",
    "    num, den = 0, 0\n",
    "\n",
    "    for i in range(n_max + 1):\n",
    "        num += gauss_coeff(i, nbar, sigma)**2 * energy(i, q)\n",
    "        den += gauss_coeff(i, nbar, sigma)**2\n",
    "\n",
    "    return num / den"
   ]
  },
  {
   "cell_type": "code",
   "execution_count": 9,
   "metadata": {},
   "outputs": [],
   "source": [
    "def pplot(n, nbar, sigma):\n",
    "    x = np.arange(- np.pi, np.pi, 0.01)\n",
    "    y = np.abs(f_gauss(n, q, x * 180 / np.pi, nbar, sigma))**2\n",
    "\n",
    "    plt.plot(x, y)\n",
    "    plt.show()"
   ]
  },
  {
   "cell_type": "code",
   "execution_count": 10,
   "metadata": {
    "tags": []
   },
   "outputs": [
    {
     "data": {
      "application/vnd.jupyter.widget-view+json": {
       "model_id": "80eca1592f2a4ec1818e3486c3eebdfc",
       "version_major": 2,
       "version_minor": 0
      },
      "text/plain": [
       "interactive(children=(IntSlider(value=50, description='n'), FloatSlider(value=20.0, description='nbar', max=40…"
      ]
     },
     "metadata": {},
     "output_type": "display_data"
    }
   ],
   "source": [
    "interactive_plot = interactive(\n",
    "    # Ro says that sigma min must be 1. RO SAYS to verify dis.\n",
    "    pplot, n=(0, 100, 1), nbar=(0.0, 40, 0.2), sigma=(1, 20, 0.1))\n",
    "output = interactive_plot.children[-1]\n",
    "output.layout.height = '270px'\n",
    "interactive_plot"
   ]
  },
  {
   "cell_type": "markdown",
   "metadata": {},
   "source": [
    "$$\n",
    "\\int_{0}^{2 \\pi} |\\Psi(\\phi; \\bar{n}) |^{2} d\\theta = 1\n",
    "$$"
   ]
  },
  {
   "cell_type": "code",
   "execution_count": 13,
   "metadata": {
    "tags": []
   },
   "outputs": [],
   "source": [
    "# n_max, q, x, nbar, sigma\n",
    "\n",
    "def f_gauss_integral(n_max, q, nbar, sigma):\n",
    "    def integrand(x):\n",
    "        return f_gauss(n_max, q, x * 180 / np.pi, nbar, sigma)\n",
    "\n",
    "    return integrate.quad(lambda x: np.abs(integrand(x))**2, 0, 2 * np.pi)[0]"
   ]
  },
  {
   "cell_type": "code",
   "execution_count": 14,
   "metadata": {},
   "outputs": [
    {
     "data": {
      "text/plain": [
       "1.000000000000002"
      ]
     },
     "execution_count": 14,
     "metadata": {},
     "output_type": "execute_result"
    }
   ],
   "source": [
    "f_gauss_integral(80, q, 0.2, 0.4)"
   ]
  },
  {
   "cell_type": "markdown",
   "metadata": {
    "tags": []
   },
   "source": [
    "## Test sub"
   ]
  },
  {
   "cell_type": "code",
   "execution_count": null,
   "metadata": {},
   "outputs": [],
   "source": []
  }
 ],
 "metadata": {
  "kernelspec": {
   "display_name": "Python 3",
   "language": "python",
   "name": "python3"
  },
  "language_info": {
   "codemirror_mode": {
    "name": "ipython",
    "version": 3
   },
   "file_extension": ".py",
   "mimetype": "text/x-python",
   "name": "python",
   "nbconvert_exporter": "python",
   "pygments_lexer": "ipython3",
   "version": "3.8.8"
  }
 },
 "nbformat": 4,
 "nbformat_minor": 4
}
